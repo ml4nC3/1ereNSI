{
 "cells": [
  {
   "cell_type": "markdown",
   "metadata": {},
   "source": [
    "# Avant toute chose !\n",
    "\n",
    "Si vous travaillez sur Basthon, renommez le fichier avec votre nom_prénom puis enregistrez-le sur votre poste.\n",
    "\n",
    "Pensez à enregistrer régulièrement !"
   ]
  },
  {
   "cell_type": "markdown",
   "metadata": {},
   "source": [
    "# Types construits\n",
    "\n",
    "Ce support vise à vous faire travailler sur la construction de variables complexes qui vous permettront de représenter des données.\n",
    "\n",
    "Vous connaissez déjà les **listes**, nous les reverrons. Nous verrons ici les **dictionnaires** ainsi que les **tupples**.\n",
    "\n",
    "## Traiter des données ?\n",
    "\n",
    "Le but d'intégrer des données dans un programme est de pouvoir les \"*traiter*\", c'est à dire de travailler pour les modifier, en extraire une partie ou en calculer des nouvelles.\n",
    "\n",
    "Dans cette activité nous allons travailler sur 2 types d'opérations différents :\n",
    "- Sélectionner une donnée dans un ensemble\n",
    "- Calculer une nouvelle donnée (moyenne, somme, etc...) à partir de l'ensemble\n",
    "\n",
    "Le but est que vous puissiez faire ici l'expérience des **avantages** et **inconvénients** des différents types construits (de base) de Python. Vous pourrez ainsi choisir comment représenter vos données en fonction de ce que vous souhaitez en faire !\n"
   ]
  },
  {
   "cell_type": "markdown",
   "metadata": {},
   "source": [
    "## Rappels : Manipulation des listes simples\n",
    "\n",
    "Le document que vous lisez actuellement est capable d'associer du texte (markdown) ou du code (ici python). Il est découpé en **cellules** qui sont de type *markdown* ou *code*.\n",
    "\n",
    "Avant d'aller plus loin, revoyons ici comment utiliser une liste, ce qui vous donnera l'occasion de prendre en main cet outil.\n",
    "\n",
    "Pour utiliser les cellules de code, modifiez-les (si nécessaire) puis *exécutez-les* pour observer leur résultat.\n",
    "\n",
    "**Sélectionnez** puis **exécutez** la cellule ci-dessous (bouton \"*exécuter*\" dans la barre d'outil **ou** *CTRL+ENTER*).\n",
    "\n",
    "*(attendu : le résultat s'affiche en dessous de la cellule de code)*"
   ]
  },
  {
   "cell_type": "code",
   "execution_count": null,
   "metadata": {},
   "outputs": [],
   "source": [
    "# Cellule de code !\n",
    "\n",
    "# Déclarer une nouvelle variable contenant une liste :\n",
    "ma_liste = [\"un\", \"deux\", \"trois\", \"quatre\"]\n",
    "\n",
    "# Lire un élément de la liste\n",
    "print(\"élément 1 de ma liste :\", ma_liste[1])\n",
    "\n",
    "# Modifier une élément de la liste\n",
    "print(\"modifions le premier élément.\")\n",
    "ma_liste[0] = \"zero\"\n",
    "\n",
    "# Affichage de la liste\n",
    "print(ma_liste)"
   ]
  },
  {
   "cell_type": "markdown",
   "metadata": {},
   "source": [
    "### Exercice 0 : A vous !\n",
    "\n",
    "Complétez la cellule ci-dessous de sorte à :\n",
    "- afficher la valeur \"trois\" contenue dans la liste\n",
    "- ajouter la valeur \"cinq\" en fin de liste"
   ]
  },
  {
   "cell_type": "code",
   "execution_count": null,
   "metadata": {},
   "outputs": [],
   "source": [
    "# Afficher \"trois\"\n",
    "#--- votre code ici...\n",
    "\n",
    "# Ajouter \"cinq\" dans la liste\n",
    "#--- votre code ici...\n",
    "\n",
    "# Affichage de la liste\n",
    "print(ma_liste)"
   ]
  },
  {
   "cell_type": "markdown",
   "metadata": {},
   "source": [
    "### Représenter un tableau : liste de listes\n",
    "\n",
    "Une liste c'est bien. Mais comment faire quand les données que nous traitons dans notre programme sont sous forme de tableau ?\n",
    "\n",
    "Prenons par exemple les données suivantes :\n",
    "\n",
    "<table class=\"table\" style=\"display: block; height: 350px; width: 500px; overflow-y: scroll\">\n",
    "<thead><tr><th title=\"Field #1\">Prénom</th>\n",
    "<th title=\"Field #2\">Donné par an <br/>(en moyenne depuis 1950)</th>\n",
    "</tr></thead>\n",
    "<tbody><tr>\n",
    "<td>ALAIN</td>\n",
    "<td>4 121</td>\n",
    "</tr>\n",
    "<tr>\n",
    "<td>CATHERINE</td>\n",
    "<td>2 531</td>\n",
    "</tr>\n",
    "<tr>\n",
    "<td>CHRISTOPHE</td>\n",
    "<td>2 744</td>\n",
    "</tr>\n",
    "<tr>\n",
    "<td>JEANNE</td>\n",
    "<td>4 277</td>\n",
    "</tr>\n",
    "<tr>\n",
    "<td>LOUIS</td>\n",
    "<td>3 546</td>\n",
    "</tr>\n",
    "<tr>\n",
    "<td>MARIE</td>\n",
    "<td>10 712</td>\n",
    "</tr>\n",
    "<tr>\n",
    "<td>MARTINE</td>\n",
    "<td>2 541</td>\n",
    "</tr>\n",
    "<tr>\n",
    "<td>NICOLAS</td>\n",
    "<td>2 452</td>\n",
    "</tr>\n",
    "<tr>\n",
    "<td>PIERRE</td>\n",
    "<td>4 769</td>\n",
    "</tr>\n",
    "<tr>\n",
    "<td>SANDRINE</td>\n",
    "<td>3 337</td>\n",
    "</tr>\n",
    "</tbody></table>\n",
    "\n",
    "En classe nous avons utilisé des listes de listes. La première liste, au lieu de contenir une valeur, contient une autre liste qui représente une ligne.\n",
    "\n",
    "Nous pourrions représenter cette configuration de la façon suivante : **tableau**(<span style=\"color: red;\">ligne1()</span>, <span style=\"color: green;\">ligne2()</span>, <span style=\"color: blue;\">ligne3()</span>, ...)\n",
    "\n",
    "#### Exercice 1 : déclarer la variable\n",
    "\n",
    "**Ecrivez ci-dessous** le code pour créer une liste de liste permettant la représentation de ces données. \n",
    "\n",
    "*Vous pouvez utiliser la représentation ci-dessus, ou imaginer une autre façon de faire, mais seulement avec des listes (pour l'instant).*"
   ]
  },
  {
   "cell_type": "code",
   "execution_count": null,
   "metadata": {},
   "outputs": [],
   "source": [
    "# Déclaration de la variable contenant les données du tableau\n",
    "prenoms = #--- votre code ici..."
   ]
  },
  {
   "cell_type": "markdown",
   "metadata": {},
   "source": [
    "<div style=\"width: 50%;border: 1px solid gray;margin: 20px;  margin-left: auto; margin-right: auto ;padding: 5px; background-color: indianred; color:white; text-align:center\">\n",
    "<strong>Enregistrez votre travail !</strong><br/>\n",
    "</div>"
   ]
  },
  {
   "cell_type": "markdown",
   "metadata": {},
   "source": [
    "#### Exercice 2 : Sélectionner une donnée\n",
    "\n",
    "Nous souhaitons maintenant écrire un programme qui retourne la valeur \"donné par an\" du prénom entré par l'utilisateur. \n",
    "\n",
    "**Complétez le programme** ci-dessous afin qu'il retourne la valeur attendue."
   ]
  },
  {
   "cell_type": "code",
   "execution_count": null,
   "metadata": {},
   "outputs": [],
   "source": [
    "# Saisie du prénom par l'utilisateur\n",
    "prenom_choisi = input(\"Entrez le prénom désiré : \")\n",
    "\n",
    "valeur = #--- votre code ici...\n",
    "#--- ...ou là...\n",
    "\n",
    "#--- ... ou encore là. Où vous voulez en fait, tant que ça fonctionne.\n",
    "\n",
    "# Affichage de la valeur correspondante\n",
    "print(\"le prénom\", prenom_choisi, \"a été donné en moyenne\", valeur, \"fois par ans depuis 1950 (en France).\")"
   ]
  },
  {
   "cell_type": "markdown",
   "metadata": {},
   "source": [
    "<div style=\"width: 50%;border: 1px solid gray;margin: 20px;  margin-left: auto; margin-right: auto ;padding: 5px; background-color: indianred; color:white; text-align:center\">\n",
    "<strong>Enregistrez votre travail !</strong><br/>\n",
    "</div>"
   ]
  },
  {
   "cell_type": "markdown",
   "metadata": {},
   "source": [
    "<div style=\"width: 80%;border: 1px solid gray;margin: 20px;  margin-left: 15px; margin-right: auto;padding: 5px; background-color: lightblue\">\n",
    "M'sieur, y'a pas plus simple ?    \n",
    "</div>\n",
    "\n",
    "<div style=\"width: 80%;border: 1px solid gray;margin: 20px;  margin-left: auto; margin-right: 15px ;padding: 5px; background-color: lightyellow\">\n",
    "    Lorsque l'on travaille avec des listes, le point d'entrée dans les données est toujours l'indice de la valeur recherchée. Pour trouver le prénom il vous a donc fallu <em>parcourir</em> les données à la recherche de la bonne <strong>clé</strong> afin de pouvoir ressortir la valeur recherchée.\n",
    "</div>\n",
    "<div style=\"width: 80%;border: 1px solid gray;margin: 20px;  margin-left: 15px; margin-right: auto;padding: 5px; background-color: lightblue\">\n",
    "C'qui s'rait bien, ce s'rait qu'on puisse remplacer l'indice directement par le prénom ! Comme ça plutôt que de chercher l'indice du prénom, on pourrait directement demander la valeur correspondante !</div>\n",
    "\n",
    "<div style=\"width: 80%;border: 1px solid gray;margin: 20px;  margin-left: auto; margin-right: 15px ;padding: 5px; background-color: lightyellow\">\n",
    "    Merci Kevin, excellente transition vers les dictionnaires !\n",
    "</div>"
   ]
  },
  {
   "cell_type": "markdown",
   "metadata": {},
   "source": [
    "### Bienvenue dans le monde merveilleux des dictionnaires !\n",
    "\n",
    "Un dictionnaire python, c'est quoi ? C'est une liste dans laquelle on *choisi l'indice*. Plutôt que d'avoir forcément les valeur numérotées de 0 à *n*, chaque donnée est *rangée* à l'indice que l'on souhaite. cela peut être un nombre, un texte, une image, ce qu'on veut !\n",
    "\n",
    "**vocabulaire** : quand on parle de dictionnaire, on ne parle plus d'*indice* mais de **clé**. La clé est la donnée qui permet d'accéder à la **valeur**. On parle de structure **clé/valeur** car chaque valeur est associée à une clé qui permet d'y accéder.\n",
    "\n",
    "#### Créer un dictionnaire\n",
    "\n",
    "Pour créer un nouveau dictionnaire, il faut donc préciser la clé de chaque valeur avec la syntaxe suivante :\n",
    "\n",
    "dictionnaire = **{** <span style=\"color:red;\">clé_1 : valeur_1</span>, <span style=\"color:green;\">clé_2 : valeur_2</span>, <span style=\"color:blue;\">clé_3 : valeur_3</span>, ...**}**\n",
    "\n",
    "Par exemple, pour les données suivantes :\n",
    "<table>\n",
    "<thead><tr><th title=\"Field #1\">Objet</th>\n",
    "<th title=\"Field #2\">nombre</th>\n",
    "</tr></thead>\n",
    "<tbody><tr>\n",
    "<td>Chaussette</td>\n",
    "<td align=\"right\">3</td>\n",
    "</tr>\n",
    "<tr>\n",
    "<td>Miroir</td>\n",
    "<td align=\"right\">1</td>\n",
    "</tr>\n",
    "<tr>\n",
    "<td>Carte à jouer</td>\n",
    "<td align=\"right\">54</td>\n",
    "</tr>\n",
    "<tr>\n",
    "<td>Boite de conserve</td>\n",
    "<td align=\"right\">5</td>\n",
    "</tr>\n",
    "<tr>\n",
    "<td>Bouteilles</td>\n",
    "<td align=\"right\">12</td>\n",
    "</tr>\n",
    "</tbody></table>\n",
    "\n",
    "Le code du dictonnnaire sera le suivant :"
   ]
  },
  {
   "cell_type": "code",
   "execution_count": null,
   "metadata": {},
   "outputs": [],
   "source": [
    "# Déclaration du dictionnaire correspondant aux données\n",
    "coffre = {\"Chaussette\": 3, \"Miroir\": 1, \"Carte à jouer\": 54, \"Boite de conserve\": 5, \"Bouteilles\": 12}\n"
   ]
  },
  {
   "cell_type": "markdown",
   "metadata": {},
   "source": [
    "Remarquez que la syntaxe est assez similaire aux listes, mais le dictionnaire est entouré par des accolades **{ }** lorsque la liste, elle, est entourée par des corchets **[ ]**.\n",
    "\n",
    "#### Lire un dictionnaire\n",
    "\n",
    "Pour accéder à une valeur d'un dictionnaire, la syntaxe est la même qu'avec une liste :\n",
    "- **liste** : *variable_liste* **[** indice **]**\n",
    "- **dictionnaire** : *variable_dict* **[** clé **]**"
   ]
  },
  {
   "cell_type": "code",
   "execution_count": null,
   "metadata": {},
   "outputs": [],
   "source": [
    "# Exemple :\n",
    "coffre[\"Bouteilles\"] # Renvoi la valeur associée à la clé \"Bouteilles\" soit 12."
   ]
  },
  {
   "cell_type": "code",
   "execution_count": null,
   "metadata": {},
   "outputs": [],
   "source": [
    "# Ou encore :\n",
    "print(\"Dans mon coffre il y a\", coffre[\"Chaussette\"], \"chaussettes.\")"
   ]
  },
  {
   "cell_type": "markdown",
   "metadata": {},
   "source": [
    "Si la clé demandée n'existe pas, Python renvoi une erreur nommée \"KeyError\"."
   ]
  },
  {
   "cell_type": "code",
   "execution_count": null,
   "metadata": {},
   "outputs": [],
   "source": [
    "# exemple générant une \"KeyError\":\n",
    "coffre[\"Caillou\"]"
   ]
  },
  {
   "cell_type": "markdown",
   "metadata": {},
   "source": [
    "Il n'y a pas de caillou dans mon coffre. Python me l'indique par cette erreur KeyError.\n",
    "\n",
    "#### Modifier un dictionnaire\n",
    "\n",
    "Pour modifier la valeur d'une clé ou en ajouter une nouvelle, rien de plus simple : \n",
    "<span style=\"color:gray\">dictionnaire</span>**[** clé **] =** *nouvelle_valeur*\n",
    "\n",
    "Si la clé n'existe pas, elle sera ajoutée au dictionnaire avec la valeur affectée. Si la clé existe déjà la valeur actuelle sera remplacée par la nouvelle."
   ]
  },
  {
   "cell_type": "code",
   "execution_count": null,
   "metadata": {},
   "outputs": [],
   "source": [
    "# Exemple : Kevin a retrouvé sa dernière chaussette, nous pouvons donc faire :\n",
    "coffre[\"Chaussette\"] = 4"
   ]
  },
  {
   "cell_type": "code",
   "execution_count": null,
   "metadata": {},
   "outputs": [],
   "source": [
    "# Nous pouvons donc refaire :\n",
    "print(\"Dans mon coffre il y a\", coffre[\"Chaussette\"], \"chaussettes.\")"
   ]
  },
  {
   "cell_type": "markdown",
   "metadata": {},
   "source": [
    "Sauf que, cette fois, c'est beaucoup mieux !\n",
    "\n",
    "#### Exercice 3 : refaire l'exercice 1 avec un dictionnaire\n",
    "\n",
    "Reprennons les mêmes données que dans l'exercice 1.\n",
    "\n",
    "Créez un dictionnaire contenant les données suivantes :\n",
    "<table class=\"table\" style=\"display: block; height: 350px; width: 500px; overflow-y: scroll\">\n",
    "<thead><tr><th title=\"Field #1\">Prénom</th>\n",
    "<th title=\"Field #2\">Donné par an <br/>(en moyenne depuis 1950)</th>\n",
    "</tr></thead>\n",
    "<tbody><tr>\n",
    "<td>ALAIN</td>\n",
    "<td>4 121</td>\n",
    "</tr>\n",
    "<tr>\n",
    "<td>CATHERINE</td>\n",
    "<td>2 531</td>\n",
    "</tr>\n",
    "<tr>\n",
    "<td>CHRISTOPHE</td>\n",
    "<td>2 744</td>\n",
    "</tr>\n",
    "<tr>\n",
    "<td>JEANNE</td>\n",
    "<td>4 277</td>\n",
    "</tr>\n",
    "<tr>\n",
    "<td>LOUIS</td>\n",
    "<td>3 546</td>\n",
    "</tr>\n",
    "<tr>\n",
    "<td>MARIE</td>\n",
    "<td>10 712</td>\n",
    "</tr>\n",
    "<tr>\n",
    "<td>MARTINE</td>\n",
    "<td>2 541</td>\n",
    "</tr>\n",
    "<tr>\n",
    "<td>NICOLAS</td>\n",
    "<td>2 452</td>\n",
    "</tr>\n",
    "<tr>\n",
    "<td>PIERRE</td>\n",
    "<td>4 769</td>\n",
    "</tr>\n",
    "<tr>\n",
    "<td>SANDRINE</td>\n",
    "<td>3 337</td>\n",
    "</tr>\n",
    "</tbody></table>\n",
    "\n"
   ]
  },
  {
   "cell_type": "code",
   "execution_count": null,
   "metadata": {},
   "outputs": [],
   "source": [
    "# Déclaration de la variable contenant les données du tableau\n",
    "prenoms_dict = #--- votre code ici..."
   ]
  },
  {
   "cell_type": "markdown",
   "metadata": {},
   "source": [
    "<div style=\"width: 50%;border: 1px solid gray;margin: 20px;  margin-left: auto; margin-right: auto ;padding: 5px; background-color: indianred; color:white; text-align:center\">\n",
    "<strong>Enregistrez votre travail !</strong><br/>\n",
    "</div>"
   ]
  },
  {
   "cell_type": "markdown",
   "metadata": {},
   "source": [
    "#### Exercice 4 : comme l'exercice 2, mais en mieux !\n",
    "\n",
    "Maintenant que nous avons nos données sous forme de dictionnaire, qu'est-ce que cela donne en sélection de donnée ?\n",
    "Reprennons le programme de l'exercice 2, mais cette fois avec le dictionnaire créé dans l'ex 3."
   ]
  },
  {
   "cell_type": "code",
   "execution_count": null,
   "metadata": {},
   "outputs": [],
   "source": [
    "# Saisie du prénom par l'utilisateur\n",
    "prenom_choisi = input(\"Entrez le prénom désiré : \")\n",
    "\n",
    "valeur = #--- votre code ici...\n",
    "\n",
    "# Affichage de la valeur correspondante\n",
    "print(\"le prénom\", prenom_choisi, \"a été donné en moyenne\", valeur, \"fois par ans depuis 1950 (en France).\")"
   ]
  },
  {
   "cell_type": "markdown",
   "metadata": {},
   "source": [
    "<div style=\"width: 50%;border: 1px solid gray;margin: 20px;  margin-left: auto; margin-right: auto ;padding: 5px; background-color: indianred; color:white; text-align:center\">\n",
    "<strong>Enregistrez votre travail !</strong><br/>\n",
    "</div>"
   ]
  },
  {
   "cell_type": "markdown",
   "metadata": {},
   "source": [
    "<div style=\"width: 80%;border: 1px solid gray;margin: 20px;  margin-left: auto; margin-right: 15px ;padding: 5px; background-color: lightyellow\">\n",
    "    Alors ? C'est pas mieux ?\n",
    "</div>\n",
    "\n",
    "<div style=\"width: 80%;border: 1px solid gray;margin: 20px;  margin-left: 15px; margin-right: auto;padding: 5px; background-color: lightblue\">\n",
    "Mais m'sieur, pourquoi on n'utilise pas toujours des dictionnaires alors ?    \n",
    "</div>\n",
    "\n",
    "<div style=\"width: 80%;border: 1px solid gray;margin: 20px;  margin-left: auto; margin-right: 15px ;padding: 5px; background-color: lightyellow\">\n",
    "    Excellente remarque Kevin. Effectivement le dictionnaire est bien plus pratique pour sélectionner une donnée précise, dès lors que vous en connaissez la clé ! <br/>    \n",
    "Cependant il n'y a pas de magie, derrière le dictionnaire il y a une liste. Ce que vous avez fait dans l'exercice 2 avec la liste, Python le fait pour vous avec un dictionnaire. Au final pour l'ordinateur cela revient caïman au même. \n",
    "</div>\n",
    "\n",
    "De plus le dictionnaire est plus lent, et n'est pas toujours le plus pratique..."
   ]
  },
  {
   "cell_type": "markdown",
   "metadata": {},
   "source": [
    "### Traiter des données\n",
    "\n",
    "Nous avons maintenant 2 variables à notre disposition : *prenoms* et *prenoms_dict*.\n",
    "\n",
    "#### Exercice 5 : Quelle est la moyenne de tous les prénoms ?\n",
    "\n",
    "Essayez maintenant de calculer la moyenne de la colonne \"donné\" pour la liste, puis pour le dictionnaire."
   ]
  },
  {
   "cell_type": "code",
   "execution_count": null,
   "metadata": {},
   "outputs": [],
   "source": [
    "# Moyenne pour la liste\n",
    "\n",
    "#--- votre code ici..."
   ]
  },
  {
   "cell_type": "code",
   "execution_count": null,
   "metadata": {},
   "outputs": [],
   "source": [
    "# Moyenne pour le dictionnaire\n",
    "\n",
    "#--- votre code ici..."
   ]
  },
  {
   "cell_type": "markdown",
   "metadata": {},
   "source": [
    "<div style=\"width: 50%;border: 1px solid gray;margin: 20px;  margin-left: auto; margin-right: auto ;padding: 5px; background-color: indianred; color:white; text-align:center\">\n",
    "<strong>Enregistrez votre travail !</strong><br/>\n",
    "</div>"
   ]
  },
  {
   "cell_type": "markdown",
   "metadata": {},
   "source": [
    "Alors ? Dans ce cas, lequel est le plus simple ? La liste ou le dictionnaire ?\n",
    "\n",
    "# Utilisation concrète : import CSV\n",
    "\n",
    "Nous allons maintenant travailler sur des données réelles : les données de prénom de l'Insee. Ce fichier contient pour chaque prénom donné depuis 1950 le nombre de naissance par année.\n",
    "\n",
    "Depuis Basthon cliquez sur *\"Ouvrir\"* et sélectionnez le fichier **\"insee_naisssances_extrait5k.csv\"**. Le fichier est maintenant accessible à notre programme. Ce fichier est une version réduite en prénoms afin d'être travaillée plus facilement.\n",
    "\n",
    "Pour travailler sur des données CSV il faut lire le fichier et les importer dans le programme. Pour les importer dans le programme vous allez devoir faire un choix de structure similaire à l'exercice 1, mais cette fois-ci en taille réelle !\n",
    "\n",
    "#### Exercice 6 : Importer des données CSV\n",
    "\n",
    "Ouvrez le fichier CSV dans un éditeur de texte ou dans excel. Observez sa structure. Envisagez comment traduire ces données en liste ou en dictionnaire.\n",
    "\n",
    "Avant toute chose, il nous faut importer la bibliothèque python permettant de lire du CSV."
   ]
  },
  {
   "cell_type": "code",
   "execution_count": null,
   "metadata": {},
   "outputs": [],
   "source": [
    "import csv"
   ]
  },
  {
   "cell_type": "markdown",
   "metadata": {},
   "source": [
    "Voici le code permettant de lire les données d'un fichier CSV. Ici on se contente d'afficher les données.\n",
    "\n",
    "<div style=\"width: 95%;border: 1px solid gray;margin: 20px;  margin-left: auto; margin-right: auto ;padding: 5px; background-color: lightpink;\">\n",
    "<strong>Attention !</strong><br/>\n",
    "Pour tester vos programmes sans avoir de temps de traitement trop long, ouvrez le fichier <strong>\"insee_naissances_ultralight.csv\"</strong>. Celui-ci ne contient plus qu'une ligne sur 300 du fichier original, ce qui dénature beaucoup les données lues mais vous permet d'éviter les temps de traitement.</div>"
   ]
  },
  {
   "cell_type": "code",
   "execution_count": null,
   "metadata": {},
   "outputs": [],
   "source": [
    "fichier = \"insee_naisssances_extrait5k.csv\"\n",
    "#fichier = \"insee_naissances_ultralight.csv\"\n",
    "\n",
    "with open(fichier, encoding='utf-8-sig') as nat_file:\n",
    "    # Lecture des données CSV\n",
    "    nat_data = csv.reader(nat_file, delimiter=';')\n",
    "    \n",
    "    # Parcourt des données importées\n",
    "    #--- votre code en remplacement de celui-ci...\n",
    "    for row in nat_data:\n",
    "        if nat_data.line_num == 1:\n",
    "            # Traitement spécial sur la première ligne du fichier\n",
    "            print(row)\n",
    "            print(\"---------------------\")\n",
    "        else:\n",
    "            # Affichage de la ligne\n",
    "            print(row[0], row[1], int(row[2]), int(row[3]))"
   ]
  },
  {
   "cell_type": "markdown",
   "metadata": {},
   "source": [
    " A vous de modifier ce code pour les ajouter dans une variable selon la structure que vous avez choisi."
   ]
  },
  {
   "cell_type": "markdown",
   "metadata": {},
   "source": [
    "<div style=\"width: 50%;border: 1px solid gray;margin: 20px;  margin-left: auto; margin-right: auto ;padding: 5px; background-color: indianred; color:white; text-align:center\">\n",
    "<strong>Enregistrez votre travail !</strong><br/>\n",
    "</div>"
   ]
  },
  {
   "cell_type": "markdown",
   "metadata": {},
   "source": [
    "#### Exercice 7 : Sélection de donnée\n",
    "\n",
    "Maintenant que vous avez votre structure de donnée, affichez le nombre de naissance par an pour un prénom donné."
   ]
  },
  {
   "cell_type": "code",
   "execution_count": null,
   "metadata": {},
   "outputs": [],
   "source": [
    "# Saisie du prénom par l'utilisateur\n",
    "prenom_choisi = input(\"Entrez le prénom désiré : \")\n",
    "\n",
    "#--- votre code ici..."
   ]
  },
  {
   "cell_type": "markdown",
   "metadata": {},
   "source": [
    "<div style=\"width: 50%;border: 1px solid gray;margin: 20px;  margin-left: auto; margin-right: auto ;padding: 5px; background-color: indianred; color:white; text-align:center\">\n",
    "<strong>Enregistrez votre travail !</strong><br/>\n",
    "</div>"
   ]
  },
  {
   "cell_type": "markdown",
   "metadata": {},
   "source": [
    "#### Exercice 8 (difficile) : Quels sont les 3 prénoms les plus donnés pour une année donnée ?\n",
    "\n",
    "L'utilisateur choisi une année. Votre programme retourne les 3 prénoms les plus donnés cette année là.\n",
    "\n",
    "N'hésitez pas à refaire une nouvelle structure de donnée (mais conservez la première) si cela vous parait opportun.\n"
   ]
  },
  {
   "cell_type": "code",
   "execution_count": null,
   "metadata": {},
   "outputs": [],
   "source": [
    "# Saisie de l'année par l'utilisateur\n",
    "annee_choisie = input(\"Quelle année souhaitez-vous consulter ? \")\n",
    "\n",
    "#--- votre code ici..."
   ]
  },
  {
   "cell_type": "markdown",
   "metadata": {},
   "source": [
    "<div style=\"width: 50%;border: 1px solid gray;margin: 20px;  margin-left: auto; margin-right: auto ;padding: 5px; background-color: indianred; color:white; text-align:center\">\n",
    "<strong>Enregistrez votre travail !</strong><br/>\n",
    "</div>"
   ]
  },
  {
   "cell_type": "markdown",
   "metadata": {},
   "source": [
    "**Coup de pouce** : pour ce travail vous aurez besoin de trier. Python dispose d'une fonction \"sorted()\" qui permet de trier des données."
   ]
  },
  {
   "cell_type": "markdown",
   "metadata": {},
   "source": [
    "# La méditation de fin\n",
    "\n",
    "Existe-t-il une structure de donnée qui soit idéale pour ces 2 derniers exercices à la fois ?"
   ]
  }
 ],
 "metadata": {
  "kernelspec": {
   "display_name": "Python 3",
   "language": "python",
   "name": "python3"
  },
  "language_info": {
   "codemirror_mode": {
    "name": "ipython",
    "version": 3
   },
   "file_extension": ".py",
   "mimetype": "text/x-python",
   "name": "python",
   "nbconvert_exporter": "python",
   "pygments_lexer": "ipython3",
   "version": "3.8.5"
  }
 },
 "nbformat": 4,
 "nbformat_minor": 4
}
